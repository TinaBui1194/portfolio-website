{
 "cells": [
  {
   "cell_type": "code",
   "execution_count": null,
   "id": "ff51898a",
   "metadata": {},
   "outputs": [],
   "source": [
    "season = input(\"Enter the month here: \")\n",
    "\n",
    "if season == 'September' or season == 'October' or season == 'November':\n",
    "    print('Autumn')\n",
    "elif season == 'December' or season == 'January' or season == 'February':\n",
    "    print('Winter')\n",
    "elif season == 'March' or season == 'April' or season == 'May':\n",
    "    print('Spring')\n",
    "elif season == 'June' or season == 'July' or season == 'August':\n",
    "    print('Summer')   "
   ]
  },
  {
   "cell_type": "code",
   "execution_count": null,
   "id": "23c750a3",
   "metadata": {},
   "outputs": [],
   "source": [
    "x = input(\"Enter the fruit name here: \")\n",
    "fruits = ['banana', 'orange', 'mango', 'lemon']\n",
    "if x in fruits:\n",
    "    print('That fruit already exist in the list')\n",
    "else:\n",
    "   fruits.insert(0,x)\n",
    "   print(fruits)\n",
    "\n"
   ]
  },
  {
   "cell_type": "code",
   "execution_count": null,
   "id": "885586f7",
   "metadata": {},
   "outputs": [],
   "source": [
    "person={\n",
    "    'first_name': 'Asabeneh',\n",
    "    'last_name': 'Yetayeh',\n",
    "    'age': 250,\n",
    "    'country': 'Finland',\n",
    "    'is_marred': True,\n",
    "    'skills': ['JavaScript', 'React', 'Node', 'MongoDB', 'Python'],\n",
    "    'address': {\n",
    "        'street': 'Space street',\n",
    "        'zipcode': '02210'\n",
    "    }\n",
    "    }\n",
    "\n",
    "if 'skills' in person:\n",
    "    print((person['skills'])[2])"
   ]
  },
  {
   "cell_type": "code",
   "execution_count": null,
   "id": "5f7271c7",
   "metadata": {},
   "outputs": [],
   "source": []
  },
  {
   "cell_type": "code",
   "execution_count": 12,
   "id": "01fae681",
   "metadata": {},
   "outputs": [
    {
     "name": "stdout",
     "output_type": "stream",
     "text": [
      "['JavaScript', 'React', 'Node', 'MongoDB', 'Python']\n",
      "He is a front end developer\n"
     ]
    }
   ],
   "source": [
    "person={\n",
    "    'first_name': 'Asabeneh',\n",
    "    'last_name': 'Yetayeh',\n",
    "    'age': 250,\n",
    "    'country': 'Finland',\n",
    "    'is_marred': True,\n",
    "    'skills': ['JavaScript', 'React', 'Node', 'MongoDB', 'Python'],\n",
    "    'address': {\n",
    "        'street': 'Space street',\n",
    "        'zipcode': '02210'\n",
    "    }\n",
    "}\n",
    "\n",
    "print (person['skills'])\n",
    "\n",
    "\n",
    "if 'JavaScript' and 'React' in person['skills']:\n",
    "    print ('He is a front end developer')\n",
    "elif 'Node'and 'Python'and 'MongoDB' in person['skills']:\n",
    "    print ('He is a backend developer')        \n",
    "elif 'React'and 'Node'and 'MongoDB' in person['skills']:\n",
    "    print ('He is a fullstack developer')\n",
    "else:\n",
    "    print('unknown title')         "
   ]
  },
  {
   "cell_type": "code",
   "execution_count": 14,
   "id": "c22634c7",
   "metadata": {},
   "outputs": [
    {
     "name": "stdout",
     "output_type": "stream",
     "text": [
      "['JavaScript', 'React', 'Node', 'MongoDB', 'Python']\n"
     ]
    }
   ],
   "source": [
    "person={\n",
    "    'first_name': 'Asabeneh',\n",
    "    'last_name': 'Yetayeh',\n",
    "    'age': 250,\n",
    "    'country': 'Finland',\n",
    "    'is_marred': True,\n",
    "    'skills': ['JavaScript', 'React', 'Node', 'MongoDB', 'Python'],\n",
    "    'address': {\n",
    "        'street': 'Space street',\n",
    "        'zipcode': '02210'\n",
    "    }\n",
    "}\n",
    "\n",
    "if 'Python'in person['skills']:\n",
    "\n",
    "    print (person['skills'])\n",
    "\n",
    "  "
   ]
  },
  {
   "cell_type": "code",
   "execution_count": 7,
   "id": "b7c366c4",
   "metadata": {},
   "outputs": [
    {
     "name": "stdout",
     "output_type": "stream",
     "text": [
      "Asabeneh Yetayeh lives in Finland. He is married.\n"
     ]
    }
   ],
   "source": [
    "person={\n",
    "    'first_name': 'Asabeneh',\n",
    "    'last_name': 'Yetayeh',\n",
    "    'age': 250,\n",
    "    'country': 'Finland',\n",
    "    'is_marred': True,\n",
    "    'skills': ['JavaScript', 'React', 'Node', 'MongoDB', 'Python'],\n",
    "    'address': {\n",
    "        'street': 'Space street',\n",
    "        'zipcode': '02210'\n",
    "   }\n",
    "}\n",
    "\n",
    "\n",
    "if person['is_marred']== True and person['country'] == 'Finland' :\n",
    "        \n",
    "        print ('Asabeneh Yetayeh lives in Finland. He is married.')"
   ]
  },
  {
   "cell_type": "code",
   "execution_count": null,
   "id": "5b8ce01f",
   "metadata": {},
   "outputs": [],
   "source": []
  },
  {
   "cell_type": "code",
   "execution_count": null,
   "id": "d6516072",
   "metadata": {},
   "outputs": [],
   "source": []
  },
  {
   "cell_type": "code",
   "execution_count": null,
   "id": "c95f85a4",
   "metadata": {},
   "outputs": [],
   "source": []
  },
  {
   "cell_type": "code",
   "execution_count": null,
   "id": "602f14cd",
   "metadata": {},
   "outputs": [],
   "source": []
  },
  {
   "cell_type": "code",
   "execution_count": null,
   "id": "69e397a4",
   "metadata": {},
   "outputs": [],
   "source": []
  },
  {
   "cell_type": "code",
   "execution_count": null,
   "id": "393e270b",
   "metadata": {},
   "outputs": [],
   "source": []
  },
  {
   "cell_type": "code",
   "execution_count": null,
   "id": "c714185d",
   "metadata": {},
   "outputs": [],
   "source": []
  }
 ],
 "metadata": {
  "kernelspec": {
   "display_name": "Python 3 (ipykernel)",
   "language": "python",
   "name": "python3"
  },
  "language_info": {
   "codemirror_mode": {
    "name": "ipython",
    "version": 3
   },
   "file_extension": ".py",
   "mimetype": "text/x-python",
   "name": "python",
   "nbconvert_exporter": "python",
   "pygments_lexer": "ipython3",
   "version": "3.9.7"
  }
 },
 "nbformat": 4,
 "nbformat_minor": 5
}
