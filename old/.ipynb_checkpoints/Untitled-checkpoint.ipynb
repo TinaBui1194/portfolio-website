{
 "cells": [
  {
   "cell_type": "code",
   "execution_count": 15,
   "id": "424c58b8",
   "metadata": {},
   "outputs": [
    {
     "name": "stdout",
     "output_type": "stream",
     "text": [
      "Enter the season here: July\n",
      "Summer\n"
     ]
    }
   ],
   "source": [
    "season = input(\"Enter the month here: \")\n",
    "\n",
    "if season == 'September' or season == 'October' or season == 'November':\n",
    "    print('Autumn')\n",
    "elif season == 'December' or season == 'January' or season == 'February':\n",
    "    print('Winter')\n",
    "elif season == 'March' or season == 'April' or season == 'May':\n",
    "    print('Spring')\n",
    "elif season == 'June' or season == 'July' or season == 'August':\n",
    "    print('Summer')   "
   ]
  },
  {
   "cell_type": "code",
   "execution_count": 23,
   "id": "4de5260b",
   "metadata": {},
   "outputs": [
    {
     "name": "stdout",
     "output_type": "stream",
     "text": [
      "Enter the fruit name here: orange\n",
      "That fruit already exist in the list\n"
     ]
    }
   ],
   "source": [
    "x = input(\"Enter the fruit name here: \")\n",
    "fruits = ['banana', 'orange', 'mango', 'lemon']\n",
    "if x in fruits:\n",
    "    print('That fruit already exist in the list')\n",
    "else:\n",
    "   fruits.insert(0,x)\n",
    "   print(fruits)\n",
    "\n"
   ]
  },
  {
   "cell_type": "code",
   "execution_count": 11,
   "id": "89dbd401",
   "metadata": {},
   "outputs": [
    {
     "name": "stdout",
     "output_type": "stream",
     "text": [
      "Node\n"
     ]
    }
   ],
   "source": [
    "person={\n",
    "    'first_name': 'Asabeneh',\n",
    "    'last_name': 'Yetayeh',\n",
    "    'age': 250,\n",
    "    'country': 'Finland',\n",
    "    'is_marred': True,\n",
    "    'skills': ['JavaScript', 'React', 'Node', 'MongoDB', 'Python'],\n",
    "    'address': {\n",
    "        'street': 'Space street',\n",
    "        'zipcode': '02210'\n",
    "    }\n",
    "    }\n",
    "\n",
    "if 'skills' in person:\n",
    "    print((person['skills'])[2])"
   ]
  },
  {
   "cell_type": "code",
   "execution_count": null,
   "id": "ce867e5b",
   "metadata": {},
   "outputs": [],
   "source": []
  },
  {
   "cell_type": "code",
   "execution_count": null,
   "id": "21557c98",
   "metadata": {},
   "outputs": [],
   "source": [
    "person={\n",
    "    'first_name': 'Asabeneh',\n",
    "    'last_name': 'Yetayeh',\n",
    "    'age': 250,\n",
    "    'country': 'Finland',\n",
    "    'is_marred': True,\n",
    "    'skills': ['JavaScript', 'React', 'Node', 'MongoDB', 'Python'],\n",
    "    'address': {\n",
    "        'street': 'Space street',\n",
    "        'zipcode': '02210'\n",
    "    }\n",
    "    }\n",
    "\n",
    "if 'skills' in person:\n",
    "    print((person['skills']))\n",
    "person_skills = input ('Enter person skills here: ')\n",
    "if person_skills in ['JavaScript', 'React']:\n",
    "    print('He is a front end developer')\n",
    "elif person_skills in ['Node', 'Python', 'MongoDB']:\n",
    "    prints('He is a backend developer')\n",
    "elif person_skills in ['React', 'Node', 'MongoDB']:\n",
    "    print('He is a fullstack developer')\n",
    "else:\n",
    "    print('unknown title')\n",
    "\n",
    "   "
   ]
  },
  {
   "cell_type": "code",
   "execution_count": null,
   "id": "6a2a241e",
   "metadata": {},
   "outputs": [],
   "source": []
  },
  {
   "cell_type": "code",
   "execution_count": null,
   "id": "f81b8471",
   "metadata": {},
   "outputs": [],
   "source": []
  }
 ],
 "metadata": {
  "kernelspec": {
   "display_name": "Python 3 (ipykernel)",
   "language": "python",
   "name": "python3"
  },
  "language_info": {
   "codemirror_mode": {
    "name": "ipython",
    "version": 3
   },
   "file_extension": ".py",
   "mimetype": "text/x-python",
   "name": "python",
   "nbconvert_exporter": "python",
   "pygments_lexer": "ipython3",
   "version": "3.9.7"
  }
 },
 "nbformat": 4,
 "nbformat_minor": 5
}
